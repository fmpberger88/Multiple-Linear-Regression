{
 "cells": [
  {
   "cell_type": "code",
   "execution_count": 22,
   "metadata": {
    "collapsed": true,
    "ExecuteTime": {
     "start_time": "2023-04-15T10:10:20.308163Z",
     "end_time": "2023-04-15T10:10:20.782086Z"
    }
   },
   "outputs": [],
   "source": [
    "import pandas as pd\n",
    "import seaborn as sns\n",
    "import matplotlib.pyplot as plt\n",
    "from sklearn.model_selection import train_test_split\n",
    "from sklearn.linear_model import LinearRegression"
   ]
  },
  {
   "cell_type": "markdown",
   "source": [
    "Provided in tennis_stats.csv is data from the men’s professional tennis league, which is called the ATP [(Association of Tennis Professionals)](https://www.atptour.com/en/). Data from the top 1500 ranked players in the ATP over the span of 2009 to 2017 are provided in file. The statistics recorded for each player in each year include service game (offensive) statistics, return game (defensive) statistics and outcomes."
   ],
   "metadata": {
    "collapsed": false
   }
  },
  {
   "cell_type": "code",
   "execution_count": 3,
   "outputs": [
    {
     "data": {
      "text/plain": "                 Player  Year  FirstServe  FirstServePointsWon  \\\n0           Pedro Sousa  2016        0.88                 0.50   \n1       Roman Safiullin  2017        0.84                 0.62   \n2           Pedro Sousa  2017        0.83                 0.60   \n3   Rogerio Dutra Silva  2010        0.83                 0.64   \n4  Daniel Gimeno-Traver  2017        0.81                 0.54   \n\n   FirstServeReturnPointsWon  SecondServePointsWon  \\\n0                       0.38                  0.50   \n1                       0.26                  0.33   \n2                       0.28                  0.53   \n3                       0.34                  0.59   \n4                       0.00                  0.33   \n\n   SecondServeReturnPointsWon  Aces  BreakPointsConverted  BreakPointsFaced  \\\n0                        0.39     0                  0.14                 7   \n1                        0.07     7                  0.00                 7   \n2                        0.44     2                  0.38                10   \n3                        0.33     2                  0.33                 5   \n4                        0.33     1                  0.00                 2   \n\n   ...  ReturnGamesWon  ReturnPointsWon  ServiceGamesPlayed  ServiceGamesWon  \\\n0  ...            0.11             0.38                   8             0.50   \n1  ...            0.00             0.20                   9             0.67   \n2  ...            0.16             0.34                  17             0.65   \n3  ...            0.14             0.34                  15             0.80   \n4  ...            0.00             0.20                   2             0.50   \n\n   TotalPointsWon  TotalServicePointsWon  Wins  Losses  Winnings  Ranking  \n0            0.43                   0.50     1       2     39820      119  \n1            0.41                   0.57     0       1     17334      381  \n2            0.45                   0.59     4       1    109827      119  \n3            0.49                   0.63     0       0      9761      125  \n4            0.35                   0.50     0       1     32879      272  \n\n[5 rows x 24 columns]",
      "text/html": "<div>\n<style scoped>\n    .dataframe tbody tr th:only-of-type {\n        vertical-align: middle;\n    }\n\n    .dataframe tbody tr th {\n        vertical-align: top;\n    }\n\n    .dataframe thead th {\n        text-align: right;\n    }\n</style>\n<table border=\"1\" class=\"dataframe\">\n  <thead>\n    <tr style=\"text-align: right;\">\n      <th></th>\n      <th>Player</th>\n      <th>Year</th>\n      <th>FirstServe</th>\n      <th>FirstServePointsWon</th>\n      <th>FirstServeReturnPointsWon</th>\n      <th>SecondServePointsWon</th>\n      <th>SecondServeReturnPointsWon</th>\n      <th>Aces</th>\n      <th>BreakPointsConverted</th>\n      <th>BreakPointsFaced</th>\n      <th>...</th>\n      <th>ReturnGamesWon</th>\n      <th>ReturnPointsWon</th>\n      <th>ServiceGamesPlayed</th>\n      <th>ServiceGamesWon</th>\n      <th>TotalPointsWon</th>\n      <th>TotalServicePointsWon</th>\n      <th>Wins</th>\n      <th>Losses</th>\n      <th>Winnings</th>\n      <th>Ranking</th>\n    </tr>\n  </thead>\n  <tbody>\n    <tr>\n      <th>0</th>\n      <td>Pedro Sousa</td>\n      <td>2016</td>\n      <td>0.88</td>\n      <td>0.50</td>\n      <td>0.38</td>\n      <td>0.50</td>\n      <td>0.39</td>\n      <td>0</td>\n      <td>0.14</td>\n      <td>7</td>\n      <td>...</td>\n      <td>0.11</td>\n      <td>0.38</td>\n      <td>8</td>\n      <td>0.50</td>\n      <td>0.43</td>\n      <td>0.50</td>\n      <td>1</td>\n      <td>2</td>\n      <td>39820</td>\n      <td>119</td>\n    </tr>\n    <tr>\n      <th>1</th>\n      <td>Roman Safiullin</td>\n      <td>2017</td>\n      <td>0.84</td>\n      <td>0.62</td>\n      <td>0.26</td>\n      <td>0.33</td>\n      <td>0.07</td>\n      <td>7</td>\n      <td>0.00</td>\n      <td>7</td>\n      <td>...</td>\n      <td>0.00</td>\n      <td>0.20</td>\n      <td>9</td>\n      <td>0.67</td>\n      <td>0.41</td>\n      <td>0.57</td>\n      <td>0</td>\n      <td>1</td>\n      <td>17334</td>\n      <td>381</td>\n    </tr>\n    <tr>\n      <th>2</th>\n      <td>Pedro Sousa</td>\n      <td>2017</td>\n      <td>0.83</td>\n      <td>0.60</td>\n      <td>0.28</td>\n      <td>0.53</td>\n      <td>0.44</td>\n      <td>2</td>\n      <td>0.38</td>\n      <td>10</td>\n      <td>...</td>\n      <td>0.16</td>\n      <td>0.34</td>\n      <td>17</td>\n      <td>0.65</td>\n      <td>0.45</td>\n      <td>0.59</td>\n      <td>4</td>\n      <td>1</td>\n      <td>109827</td>\n      <td>119</td>\n    </tr>\n    <tr>\n      <th>3</th>\n      <td>Rogerio Dutra Silva</td>\n      <td>2010</td>\n      <td>0.83</td>\n      <td>0.64</td>\n      <td>0.34</td>\n      <td>0.59</td>\n      <td>0.33</td>\n      <td>2</td>\n      <td>0.33</td>\n      <td>5</td>\n      <td>...</td>\n      <td>0.14</td>\n      <td>0.34</td>\n      <td>15</td>\n      <td>0.80</td>\n      <td>0.49</td>\n      <td>0.63</td>\n      <td>0</td>\n      <td>0</td>\n      <td>9761</td>\n      <td>125</td>\n    </tr>\n    <tr>\n      <th>4</th>\n      <td>Daniel Gimeno-Traver</td>\n      <td>2017</td>\n      <td>0.81</td>\n      <td>0.54</td>\n      <td>0.00</td>\n      <td>0.33</td>\n      <td>0.33</td>\n      <td>1</td>\n      <td>0.00</td>\n      <td>2</td>\n      <td>...</td>\n      <td>0.00</td>\n      <td>0.20</td>\n      <td>2</td>\n      <td>0.50</td>\n      <td>0.35</td>\n      <td>0.50</td>\n      <td>0</td>\n      <td>1</td>\n      <td>32879</td>\n      <td>272</td>\n    </tr>\n  </tbody>\n</table>\n<p>5 rows × 24 columns</p>\n</div>"
     },
     "execution_count": 3,
     "metadata": {},
     "output_type": "execute_result"
    }
   ],
   "source": [
    "tennis = pd.read_csv(\"tennis_stats.csv\")\n",
    "tennis.head()"
   ],
   "metadata": {
    "collapsed": false,
    "ExecuteTime": {
     "start_time": "2023-04-15T08:56:19.850457Z",
     "end_time": "2023-04-15T08:56:20.023812Z"
    }
   }
  },
  {
   "cell_type": "code",
   "execution_count": 4,
   "outputs": [
    {
     "name": "stdout",
     "output_type": "stream",
     "text": [
      "<class 'pandas.core.frame.DataFrame'>\n",
      "RangeIndex: 1721 entries, 0 to 1720\n",
      "Data columns (total 24 columns):\n",
      " #   Column                      Non-Null Count  Dtype  \n",
      "---  ------                      --------------  -----  \n",
      " 0   Player                      1721 non-null   object \n",
      " 1   Year                        1721 non-null   int64  \n",
      " 2   FirstServe                  1721 non-null   float64\n",
      " 3   FirstServePointsWon         1721 non-null   float64\n",
      " 4   FirstServeReturnPointsWon   1721 non-null   float64\n",
      " 5   SecondServePointsWon        1721 non-null   float64\n",
      " 6   SecondServeReturnPointsWon  1721 non-null   float64\n",
      " 7   Aces                        1721 non-null   int64  \n",
      " 8   BreakPointsConverted        1721 non-null   float64\n",
      " 9   BreakPointsFaced            1721 non-null   int64  \n",
      " 10  BreakPointsOpportunities    1721 non-null   int64  \n",
      " 11  BreakPointsSaved            1721 non-null   float64\n",
      " 12  DoubleFaults                1721 non-null   int64  \n",
      " 13  ReturnGamesPlayed           1721 non-null   int64  \n",
      " 14  ReturnGamesWon              1721 non-null   float64\n",
      " 15  ReturnPointsWon             1721 non-null   float64\n",
      " 16  ServiceGamesPlayed          1721 non-null   int64  \n",
      " 17  ServiceGamesWon             1721 non-null   float64\n",
      " 18  TotalPointsWon              1721 non-null   float64\n",
      " 19  TotalServicePointsWon       1721 non-null   float64\n",
      " 20  Wins                        1721 non-null   int64  \n",
      " 21  Losses                      1721 non-null   int64  \n",
      " 22  Winnings                    1721 non-null   int64  \n",
      " 23  Ranking                     1721 non-null   int64  \n",
      "dtypes: float64(12), int64(11), object(1)\n",
      "memory usage: 322.8+ KB\n"
     ]
    }
   ],
   "source": [
    "tennis.info()"
   ],
   "metadata": {
    "collapsed": false,
    "ExecuteTime": {
     "start_time": "2023-04-15T08:56:28.837106Z",
     "end_time": "2023-04-15T08:56:28.933429Z"
    }
   }
  },
  {
   "cell_type": "code",
   "execution_count": 14,
   "outputs": [
    {
     "data": {
      "text/plain": "Player                        0\nYear                          0\nFirstServe                    0\nFirstServePointsWon           0\nFirstServeReturnPointsWon     0\nSecondServePointsWon          0\nSecondServeReturnPointsWon    0\nAces                          0\nBreakPointsConverted          0\nBreakPointsFaced              0\nBreakPointsOpportunities      0\nBreakPointsSaved              0\nDoubleFaults                  0\nReturnGamesPlayed             0\nReturnGamesWon                0\nReturnPointsWon               0\nServiceGamesPlayed            0\nServiceGamesWon               0\nTotalPointsWon                0\nTotalServicePointsWon         0\nWins                          0\nLosses                        0\nWinnings                      0\nRanking                       0\ndtype: int64"
     },
     "execution_count": 14,
     "metadata": {},
     "output_type": "execute_result"
    }
   ],
   "source": [
    "tennis.isna().sum()"
   ],
   "metadata": {
    "collapsed": false,
    "ExecuteTime": {
     "start_time": "2023-04-15T09:40:00.958918Z",
     "end_time": "2023-04-15T09:40:00.968190Z"
    }
   }
  },
  {
   "cell_type": "code",
   "execution_count": 20,
   "outputs": [
    {
     "data": {
      "text/plain": "   FirstServe  FirstServePointsWon  FirstServeReturnPointsWon  \\\n0        0.88                 0.50                       0.38   \n1        0.84                 0.62                       0.26   \n2        0.83                 0.60                       0.28   \n3        0.83                 0.64                       0.34   \n4        0.81                 0.54                       0.00   \n\n   SecondServePointsWon  SecondServeReturnPointsWon  Aces  \\\n0                  0.50                        0.39     0   \n1                  0.33                        0.07     7   \n2                  0.53                        0.44     2   \n3                  0.59                        0.33     2   \n4                  0.33                        0.33     1   \n\n   BreakPointsConverted  BreakPointsFaced  BreakPointsOpportunities  \\\n0                  0.14                 7                         7   \n1                  0.00                 7                         0   \n2                  0.38                10                         8   \n3                  0.33                 5                         6   \n4                  0.00                 2                         0   \n\n   BreakPointsSaved  ...  ReturnGamesWon  ReturnPointsWon  ServiceGamesPlayed  \\\n0              0.43  ...            0.11             0.38                   8   \n1              0.57  ...            0.00             0.20                   9   \n2              0.40  ...            0.16             0.34                  17   \n3              0.40  ...            0.14             0.34                  15   \n4              0.50  ...            0.00             0.20                   2   \n\n   ServiceGamesWon  TotalPointsWon  TotalServicePointsWon  Wins  Losses  \\\n0             0.50            0.43                   0.50     1       2   \n1             0.67            0.41                   0.57     0       1   \n2             0.65            0.45                   0.59     4       1   \n3             0.80            0.49                   0.63     0       0   \n4             0.50            0.35                   0.50     0       1   \n\n   Winnings  Ranking  \n0     39820      119  \n1     17334      381  \n2    109827      119  \n3      9761      125  \n4     32879      272  \n\n[5 rows x 22 columns]",
      "text/html": "<div>\n<style scoped>\n    .dataframe tbody tr th:only-of-type {\n        vertical-align: middle;\n    }\n\n    .dataframe tbody tr th {\n        vertical-align: top;\n    }\n\n    .dataframe thead th {\n        text-align: right;\n    }\n</style>\n<table border=\"1\" class=\"dataframe\">\n  <thead>\n    <tr style=\"text-align: right;\">\n      <th></th>\n      <th>FirstServe</th>\n      <th>FirstServePointsWon</th>\n      <th>FirstServeReturnPointsWon</th>\n      <th>SecondServePointsWon</th>\n      <th>SecondServeReturnPointsWon</th>\n      <th>Aces</th>\n      <th>BreakPointsConverted</th>\n      <th>BreakPointsFaced</th>\n      <th>BreakPointsOpportunities</th>\n      <th>BreakPointsSaved</th>\n      <th>...</th>\n      <th>ReturnGamesWon</th>\n      <th>ReturnPointsWon</th>\n      <th>ServiceGamesPlayed</th>\n      <th>ServiceGamesWon</th>\n      <th>TotalPointsWon</th>\n      <th>TotalServicePointsWon</th>\n      <th>Wins</th>\n      <th>Losses</th>\n      <th>Winnings</th>\n      <th>Ranking</th>\n    </tr>\n  </thead>\n  <tbody>\n    <tr>\n      <th>0</th>\n      <td>0.88</td>\n      <td>0.50</td>\n      <td>0.38</td>\n      <td>0.50</td>\n      <td>0.39</td>\n      <td>0</td>\n      <td>0.14</td>\n      <td>7</td>\n      <td>7</td>\n      <td>0.43</td>\n      <td>...</td>\n      <td>0.11</td>\n      <td>0.38</td>\n      <td>8</td>\n      <td>0.50</td>\n      <td>0.43</td>\n      <td>0.50</td>\n      <td>1</td>\n      <td>2</td>\n      <td>39820</td>\n      <td>119</td>\n    </tr>\n    <tr>\n      <th>1</th>\n      <td>0.84</td>\n      <td>0.62</td>\n      <td>0.26</td>\n      <td>0.33</td>\n      <td>0.07</td>\n      <td>7</td>\n      <td>0.00</td>\n      <td>7</td>\n      <td>0</td>\n      <td>0.57</td>\n      <td>...</td>\n      <td>0.00</td>\n      <td>0.20</td>\n      <td>9</td>\n      <td>0.67</td>\n      <td>0.41</td>\n      <td>0.57</td>\n      <td>0</td>\n      <td>1</td>\n      <td>17334</td>\n      <td>381</td>\n    </tr>\n    <tr>\n      <th>2</th>\n      <td>0.83</td>\n      <td>0.60</td>\n      <td>0.28</td>\n      <td>0.53</td>\n      <td>0.44</td>\n      <td>2</td>\n      <td>0.38</td>\n      <td>10</td>\n      <td>8</td>\n      <td>0.40</td>\n      <td>...</td>\n      <td>0.16</td>\n      <td>0.34</td>\n      <td>17</td>\n      <td>0.65</td>\n      <td>0.45</td>\n      <td>0.59</td>\n      <td>4</td>\n      <td>1</td>\n      <td>109827</td>\n      <td>119</td>\n    </tr>\n    <tr>\n      <th>3</th>\n      <td>0.83</td>\n      <td>0.64</td>\n      <td>0.34</td>\n      <td>0.59</td>\n      <td>0.33</td>\n      <td>2</td>\n      <td>0.33</td>\n      <td>5</td>\n      <td>6</td>\n      <td>0.40</td>\n      <td>...</td>\n      <td>0.14</td>\n      <td>0.34</td>\n      <td>15</td>\n      <td>0.80</td>\n      <td>0.49</td>\n      <td>0.63</td>\n      <td>0</td>\n      <td>0</td>\n      <td>9761</td>\n      <td>125</td>\n    </tr>\n    <tr>\n      <th>4</th>\n      <td>0.81</td>\n      <td>0.54</td>\n      <td>0.00</td>\n      <td>0.33</td>\n      <td>0.33</td>\n      <td>1</td>\n      <td>0.00</td>\n      <td>2</td>\n      <td>0</td>\n      <td>0.50</td>\n      <td>...</td>\n      <td>0.00</td>\n      <td>0.20</td>\n      <td>2</td>\n      <td>0.50</td>\n      <td>0.35</td>\n      <td>0.50</td>\n      <td>0</td>\n      <td>1</td>\n      <td>32879</td>\n      <td>272</td>\n    </tr>\n  </tbody>\n</table>\n<p>5 rows × 22 columns</p>\n</div>"
     },
     "execution_count": 20,
     "metadata": {},
     "output_type": "execute_result"
    }
   ],
   "source": [
    "tennis_clean = tennis.drop([\"Player\", \"Year\"], axis=1)\n",
    "tennis_clean.head()"
   ],
   "metadata": {
    "collapsed": false,
    "ExecuteTime": {
     "start_time": "2023-04-15T10:09:55.201572Z",
     "end_time": "2023-04-15T10:09:55.223950Z"
    }
   }
  },
  {
   "cell_type": "code",
   "execution_count": 21,
   "outputs": [],
   "source": [
    "corr_matrix = tennis_clean.corr()"
   ],
   "metadata": {
    "collapsed": false,
    "ExecuteTime": {
     "start_time": "2023-04-15T10:09:58.022330Z",
     "end_time": "2023-04-15T10:09:58.048969Z"
    }
   }
  }
 ],
 "metadata": {
  "kernelspec": {
   "display_name": "Python 3",
   "language": "python",
   "name": "python3"
  },
  "language_info": {
   "codemirror_mode": {
    "name": "ipython",
    "version": 2
   },
   "file_extension": ".py",
   "mimetype": "text/x-python",
   "name": "python",
   "nbconvert_exporter": "python",
   "pygments_lexer": "ipython2",
   "version": "2.7.6"
  }
 },
 "nbformat": 4,
 "nbformat_minor": 0
}
